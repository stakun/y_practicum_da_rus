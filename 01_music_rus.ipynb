{
 "cells": [
  {
   "cell_type": "markdown",
   "id": "e4bad6a0",
   "metadata": {},
   "source": [
    "# Музыка больших городов\n",
    "\n",
    "Проект по исследованию потребительского поведения пользователей музыкального стримингового сервиса [Яндекс Музыка](https://music.yandex.ru/) — сравнение музыкальных предпочтений пользователей из Москвы и Санкт-Петербурга.\n",
    "\n",
    "**Статус проекта:** ✅завершен, проверен ревьюером."
   ]
  },
  {
   "cell_type": "markdown",
   "id": "a62c29bf",
   "metadata": {
    "toc": true
   },
   "source": [
    "<h1>Содержание<span class=\"tocSkip\"></span></h1>\n",
    "<div class=\"toc\"><ul class=\"toc-item\"><li><span><a href=\"#Постановка-задачи\" data-toc-modified-id=\"Постановка-задачи-1\"><span class=\"toc-item-num\">1&nbsp;&nbsp;</span>Постановка задачи</a></span></li><li><span><a href=\"#Резюме-проекта\" data-toc-modified-id=\"Резюме-проекта-2\"><span class=\"toc-item-num\">2&nbsp;&nbsp;</span>Резюме проекта</a></span></li><li><span><a href=\"#Краткое-содержание-работы\" data-toc-modified-id=\"Краткое-содержание-работы-3\"><span class=\"toc-item-num\">3&nbsp;&nbsp;</span>Краткое содержание работы</a></span></li><li><span><a href=\"#Обзор-данных\" data-toc-modified-id=\"Обзор-данных-4\"><span class=\"toc-item-num\">4&nbsp;&nbsp;</span>Обзор данных</a></span><ul class=\"toc-item\"><li><span><a href=\"#Импорт-библиотек-и-данных\" data-toc-modified-id=\"Импорт-библиотек-и-данных-4.1\"><span class=\"toc-item-num\">4.1&nbsp;&nbsp;</span>Импорт библиотек и данных</a></span></li><li><span><a href=\"#Обзор-датасета\" data-toc-modified-id=\"Обзор-датасета-4.2\"><span class=\"toc-item-num\">4.2&nbsp;&nbsp;</span>Обзор датасета</a></span></li><li><span><a href=\"#Выводы-по-разделу-4\" data-toc-modified-id=\"Выводы-по-разделу-4-4.3\"><span class=\"toc-item-num\">4.3&nbsp;&nbsp;</span>Выводы по разделу 4</a></span></li></ul></li><li><span><a href=\"#Предобработка-данных\" data-toc-modified-id=\"Предобработка-данных-5\"><span class=\"toc-item-num\">5&nbsp;&nbsp;</span>Предобработка данных</a></span><ul class=\"toc-item\"><li><span><a href=\"#Стиль-заголовков-столбцов\" data-toc-modified-id=\"Стиль-заголовков-столбцов-5.1\"><span class=\"toc-item-num\">5.1&nbsp;&nbsp;</span>Стиль заголовков столбцов</a></span></li><li><span><a href=\"#Пропуски-значений\" data-toc-modified-id=\"Пропуски-значений-5.2\"><span class=\"toc-item-num\">5.2&nbsp;&nbsp;</span>Пропуски значений</a></span></li><li><span><a href=\"#Дубликаты\" data-toc-modified-id=\"Дубликаты-5.3\"><span class=\"toc-item-num\">5.3&nbsp;&nbsp;</span>Дубликаты</a></span></li><li><span><a href=\"#Выводы-по-разделу-5\" data-toc-modified-id=\"Выводы-по-разделу-5-5.4\"><span class=\"toc-item-num\">5.4&nbsp;&nbsp;</span>Выводы по разделу 5</a></span></li></ul></li><li><span><a href=\"#Проверка-гипотез\" data-toc-modified-id=\"Проверка-гипотез-6\"><span class=\"toc-item-num\">6&nbsp;&nbsp;</span>Проверка гипотез</a></span><ul class=\"toc-item\"><li><span><a href=\"#Сравнение-поведения-пользователей-двух-столиц\" data-toc-modified-id=\"Сравнение-поведения-пользователей-двух-столиц-6.1\"><span class=\"toc-item-num\">6.1&nbsp;&nbsp;</span>Сравнение поведения пользователей двух столиц</a></span><ul class=\"toc-item\"><li><span><a href=\"#Предварительные-расчеты\" data-toc-modified-id=\"Предварительные-расчеты-6.1.1\"><span class=\"toc-item-num\">6.1.1&nbsp;&nbsp;</span>Предварительные расчеты</a></span></li><li><span><a href=\"#Проверка-гипотезы.-Вариант-1-(первоначальный,-от-авторов-курса)\" data-toc-modified-id=\"Проверка-гипотезы.-Вариант-1-(первоначальный,-от-авторов-курса)-6.1.2\"><span class=\"toc-item-num\">6.1.2&nbsp;&nbsp;</span>Проверка гипотезы. Вариант 1 (первоначальный, от авторов курса)</a></span></li><li><span><a href=\"#Проверка-гипотезы.-Вариант-2-(более-поздний,-собственный)\" data-toc-modified-id=\"Проверка-гипотезы.-Вариант-2-(более-поздний,-собственный)-6.1.3\"><span class=\"toc-item-num\">6.1.3&nbsp;&nbsp;</span>Проверка гипотезы. Вариант 2 (более поздний, собственный)</a></span></li><li><span><a href=\"#Выводы-по-подразделу-6.1\" data-toc-modified-id=\"Выводы-по-подразделу-6.1-6.1.4\"><span class=\"toc-item-num\">6.1.4&nbsp;&nbsp;</span>Выводы по подразделу 6.1</a></span></li></ul></li><li><span><a href=\"#Музыка-в-начале-и-в-конце-недели\" data-toc-modified-id=\"Музыка-в-начале-и-в-конце-недели-6.2\"><span class=\"toc-item-num\">6.2&nbsp;&nbsp;</span>Музыка в начале и в конце недели</a></span><ul class=\"toc-item\"><li><span><a href=\"#Подготовка-данных\" data-toc-modified-id=\"Подготовка-данных-6.2.1\"><span class=\"toc-item-num\">6.2.1&nbsp;&nbsp;</span>Подготовка данных</a></span></li><li><span><a href=\"#Функция-для-расчета-топ-10-жанров,-прослушанных-в-заданный-день-и-временной-интервал\" data-toc-modified-id=\"Функция-для-расчета-топ-10-жанров,-прослушанных-в-заданный-день-и-временной-интервал-6.2.2\"><span class=\"toc-item-num\">6.2.2&nbsp;&nbsp;</span>Функция для расчета топ-10 жанров, прослушанных в заданный день и временной интервал</a></span></li><li><span><a href=\"#Проверка-гипотезы.-Вариант-1-(первоначальный,-от-авторов-курса)\" data-toc-modified-id=\"Проверка-гипотезы.-Вариант-1-(первоначальный,-от-авторов-курса)-6.2.3\"><span class=\"toc-item-num\">6.2.3&nbsp;&nbsp;</span>Проверка гипотезы. Вариант 1 (первоначальный, от авторов курса)</a></span></li><li><span><a href=\"#Проверка-гипотезы.-Вариант-2-(более-поздний,-собственный)\" data-toc-modified-id=\"Проверка-гипотезы.-Вариант-2-(более-поздний,-собственный)-6.2.4\"><span class=\"toc-item-num\">6.2.4&nbsp;&nbsp;</span>Проверка гипотезы. Вариант 2 (более поздний, собственный)</a></span></li><li><span><a href=\"#Выводы-по-подразделу-6.2\" data-toc-modified-id=\"Выводы-по-подразделу-6.2-6.2.5\"><span class=\"toc-item-num\">6.2.5&nbsp;&nbsp;</span>Выводы по подразделу 6.2</a></span></li></ul></li><li><span><a href=\"#Жанровые-предпочтения-в-Москве-и-Петербурге\" data-toc-modified-id=\"Жанровые-предпочтения-в-Москве-и-Петербурге-6.3\"><span class=\"toc-item-num\">6.3&nbsp;&nbsp;</span>Жанровые предпочтения в Москве и Петербурге</a></span><ul class=\"toc-item\"><li><span><a href=\"#Топ-10-жанров-по-Москве\" data-toc-modified-id=\"Топ-10-жанров-по-Москве-6.3.1\"><span class=\"toc-item-num\">6.3.1&nbsp;&nbsp;</span>Топ-10 жанров по Москве</a></span></li><li><span><a href=\"#Топ-10-жанров-по-Петербургу\" data-toc-modified-id=\"Топ-10-жанров-по-Петербургу-6.3.2\"><span class=\"toc-item-num\">6.3.2&nbsp;&nbsp;</span>Топ-10 жанров по Петербургу</a></span></li><li><span><a href=\"#Выводы-по-подразделу-6.3\" data-toc-modified-id=\"Выводы-по-подразделу-6.3-6.3.3\"><span class=\"toc-item-num\">6.3.3&nbsp;&nbsp;</span>Выводы по подразделу 6.3</a></span></li></ul></li></ul></li><li><span><a href=\"#Итоги-исследования\" data-toc-modified-id=\"Итоги-исследования-7\"><span class=\"toc-item-num\">7&nbsp;&nbsp;</span>Итоги исследования</a></span></li><li><span><a href=\"#Чек-лист-выполнения-проекта\" data-toc-modified-id=\"Чек-лист-выполнения-проекта-8\"><span class=\"toc-item-num\">8&nbsp;&nbsp;</span>Чек-лист выполнения проекта</a></span></li></ul></div>"
   ]
  },
  {
   "cell_type": "markdown",
   "id": "96bcf783",
   "metadata": {},
   "source": [
    "## Постановка задачи\n",
    "Сравнение Москвы и Петербурга окружено мифами:\n",
    "- Москва — мегаполис, подчинённый жёсткому ритму рабочей недели;\n",
    "- Петербург — город своеобразной культуры, непохожий на Москву.\n",
    "\n",
    "Некоторые мифы отражают действительность. Другие — пустые стереотипы. Бизнес должен отличать первые от вторых, чтобы принимать рациональные решения.\n",
    "\n",
    "**Цель исследования** — проверить гипотезы о том, как потребительское поведение пользователей Яндекс Музыки различается в зависимости от дня недели, времени суток и города слушателя.\n",
    "\n",
    "Проверяемые гипотезы:\n",
    "\n",
    "1. Активность пользователей зависит от дня недели. Причём в Москве и Петербурге это проявляется по-разному.\n",
    "1. Утром в понедельник в Москве преобладают одни жанры музыки, а в Петербурге — другие. Это верно и для вечера пятницы.\n",
    "1. Москва и Петербург предпочитают разные жанры музыки. В Москве чаще слушают поп-музыку, в Петербурге — русский рэп.\n",
    "\n",
    "**Задачи исследования:**\n",
    "\n",
    "1. Проверить исходные данные на ошибки и оценить их влияние на исследование.\n",
    "1. Определить возможность исправить самые критичные ошибки данных.\n",
    "1. Проверить предложенные гипотезы.\n",
    "\n",
    "**Источник данных:** файл `yandex_music_project.csv` с данными о поведении пользователей на платформе Яндекс Музыка.\n",
    "\n",
    "Описание колонок:\n",
    "- `userID` — идентификатор пользователя;\n",
    "- `Track` — название трека;\n",
    "- `artist` — имя исполнителя;\n",
    "- `genre` — название жанра;\n",
    "- `City` — город пользователя;\n",
    "- `time` — время начала прослушивания;\n",
    "- `Day` — день недели.\n",
    "\n",
    "\n",
    "**Навыки и инструменты** `Python`, `pandas`, `.groupby()`,  `.pivot_table()`."
   ]
  },
  {
   "cell_type": "markdown",
   "id": "cd064819",
   "metadata": {},
   "source": [
    "[В начало раздела](#Постановка-задачи) | [К содержанию проекта](#Содержание)"
   ]
  },
  {
   "cell_type": "markdown",
   "id": "d4994e62",
   "metadata": {},
   "source": [
    "## Резюме проекта\n",
    "- Из трёх исследованных гипотез первая подтвердилась полностью, вторая и третья — частично.\n",
    "\n",
    "\n",
    "- Полученные результаты показывают, что во вкусах пользователей Москвы и Петербурга больше общего, чем различий. Если различия в предпочтениях и существуют, на основной массе пользователей они незаметны.\n",
    "\n",
    "\n",
    "- Пропущенные значения в поле `genre` занимают существенную долю в исходных данных, что ставит под сомнения выводы исследования по второй и третьей гипотезе.\n",
    "\n",
    "\n",
    "- Из данных одного сервиса не всегда можно сделать вывод о всех жителях города. Сбор данных по другим стриминговым платформам и проверки гипотез статистическими методами в будущем покажут, насколько они достоверны, исходя из имеющихся данных."
   ]
  },
  {
   "cell_type": "markdown",
   "id": "fa79ea55",
   "metadata": {},
   "source": [
    "[В начало раздела](#Резюме-проекта) | [К содержанию проекта](#Содержание)"
   ]
  },
  {
   "cell_type": "markdown",
   "id": "b79d2e8b",
   "metadata": {},
   "source": [
    "## Краткое содержание работы\n",
    "\n",
    "Исследование проводилось в три этапа:\n",
    "\n",
    "1. **Обзор данных** — загрузка библиотеки `pandas` и файла с исходными данными, первичное знакомство с данными посредством методов `head()` и `info()`.\n",
    "\n",
    "\n",
    "2. **Предобработка данных** — устранение выявленных при обзоре недостатков в данных: нарушений в стиле заголовков столбцов, заполнение пропущенных значений, удаление полных дубликатов:\n",
    "    - все заголовки были приведены к единому стилю методами `df.columns` и `rename()`, а пропущенные значения заменены на 'unknown' при помощи метода `fillna()`;\n",
    "    - явные дубликаты были обработаны при помощи метода `drop_duplicates()` ;\n",
    "    - для поиска неявных дубликатов использовались методы `sort_values()` и `unique()`, а для их замены — созданная функция `replace_wrong_genres (wrong_genres, correct_genre)`, использующая метод `replace()`.\n",
    "\n",
    "</br></br></br>\n",
    "3. **Проверка гипотез** — получение количественных показателей активности пользователей и проверка исходных гипотез на основании сравнения полученных результатов.\n",
    "\n",
    "Данный проект был первым в процессе обучения и поэтому не был полностью самостоятельным. Логика и структура проекта, а также способы решения поставленных задач были изначально предложены авторами обучающей программы (в настоящее время этот проект проходится полностью в тренажере платформы без ревью). От учащихся требовалось только правильно применить самые простые методы (вроде `info()`, `value_counts()` и т.п.) и создать функции по предложенной схеме.\n",
    "\n",
    "Закончив обучение и вернувшись к данному проекту я посчитал нужным улучшить код в некоторых пунктах, поэтому в разделах 6.1 и 6.2 возникли варианты проверок гипотез (первый — первоначальный, от авторов курса, второй — более поздний собственный):\n",
    "\n",
    "- **в пункте 6.1** вместо [предложенного авторами курса многократного ручного вызова функции](#Проверка-гипотезы.-Вариант-1-(первоначальный,-от-авторов-курса)-6.1.2), подсчитывающей количество прослушиваний по городу в определенный день недели и сведения результатов расчетов в новый датафрейм методом `pd.DataFrame()`, в более позднем варианте [применена сводная таблица](#Проверка-гипотезы.-Вариант-2-(более-поздний,-собственный)-6.1.3) со сглаживанием индекса и настройкой названий столбцов;\n",
    "\n",
    "\n",
    "- **в пункте 6.2** вместо [предложенного авторами курса многократного ручного вызова функции](#Проверка-гипотезы.-Вариант-1-(первоначальный,-от-авторов-курса)-6.2.3), рассчитывающей рейтинг топ-10 жанров в зависимости от города и временного интервала в течение дня недели, в более позднем варианте [применен цикл с перевбором заранее заданных дней недели и временных интервалов](#Проверка-гипотезы.-Вариант-2-(более-поздний,-собственный)-6.2.4)."
   ]
  },
  {
   "cell_type": "markdown",
   "id": "4421a41f",
   "metadata": {},
   "source": [
    "[В начало раздела](#Краткое-содержание-работы) | [К содержанию проекта](#Содержание)"
   ]
  },
  {
   "cell_type": "markdown",
   "id": "a1d1b04f",
   "metadata": {},
   "source": [
    "## Обзор данных\n",
    "**Задача:** составить первое представление о данных Яндекс.Музыки.\n",
    "### Импорт библиотек и данных\n",
    "Основной инструмент аналитика — `pandas`. Импортируем эту библиотеку."
   ]
  },
  {
   "cell_type": "code",
   "execution_count": 1,
   "id": "8cc2647a",
   "metadata": {},
   "outputs": [],
   "source": [
    "# Импорт библиотеки pandas\n",
    "import pandas as pd"
   ]
  },
  {
   "cell_type": "markdown",
   "id": "285c1de4",
   "metadata": {},
   "source": [
    "Прочитаем файл `yandex_music_project.csv` из папки `/datasets` и сохраним его в переменной `df`."
   ]
  },
  {
   "cell_type": "code",
   "execution_count": 2,
   "id": "25a79900",
   "metadata": {},
   "outputs": [],
   "source": [
    "# Чтение файла с данными и сохранение в df\n",
    "df = pd.read_csv('datasets/yandex_music_project.csv')"
   ]
  },
  {
   "cell_type": "markdown",
   "id": "a1f5157a",
   "metadata": {},
   "source": [
    "Выведем на экран первые десять строк таблицы."
   ]
  },
  {
   "cell_type": "code",
   "execution_count": 3,
   "id": "9ce0d70b",
   "metadata": {
    "scrolled": true
   },
   "outputs": [
    {
     "data": {
      "text/html": [
       "<div>\n",
       "<style scoped>\n",
       "    .dataframe tbody tr th:only-of-type {\n",
       "        vertical-align: middle;\n",
       "    }\n",
       "\n",
       "    .dataframe tbody tr th {\n",
       "        vertical-align: top;\n",
       "    }\n",
       "\n",
       "    .dataframe thead th {\n",
       "        text-align: right;\n",
       "    }\n",
       "</style>\n",
       "<table border=\"1\" class=\"dataframe\">\n",
       "  <thead>\n",
       "    <tr style=\"text-align: right;\">\n",
       "      <th></th>\n",
       "      <th>userID</th>\n",
       "      <th>Track</th>\n",
       "      <th>artist</th>\n",
       "      <th>genre</th>\n",
       "      <th>City</th>\n",
       "      <th>time</th>\n",
       "      <th>Day</th>\n",
       "    </tr>\n",
       "  </thead>\n",
       "  <tbody>\n",
       "    <tr>\n",
       "      <th>0</th>\n",
       "      <td>FFB692EC</td>\n",
       "      <td>Kamigata To Boots</td>\n",
       "      <td>The Mass Missile</td>\n",
       "      <td>rock</td>\n",
       "      <td>Saint-Petersburg</td>\n",
       "      <td>20:28:33</td>\n",
       "      <td>Wednesday</td>\n",
       "    </tr>\n",
       "    <tr>\n",
       "      <th>1</th>\n",
       "      <td>55204538</td>\n",
       "      <td>Delayed Because of Accident</td>\n",
       "      <td>Andreas Rönnberg</td>\n",
       "      <td>rock</td>\n",
       "      <td>Moscow</td>\n",
       "      <td>14:07:09</td>\n",
       "      <td>Friday</td>\n",
       "    </tr>\n",
       "    <tr>\n",
       "      <th>2</th>\n",
       "      <td>20EC38</td>\n",
       "      <td>Funiculì funiculà</td>\n",
       "      <td>Mario Lanza</td>\n",
       "      <td>pop</td>\n",
       "      <td>Saint-Petersburg</td>\n",
       "      <td>20:58:07</td>\n",
       "      <td>Wednesday</td>\n",
       "    </tr>\n",
       "    <tr>\n",
       "      <th>3</th>\n",
       "      <td>A3DD03C9</td>\n",
       "      <td>Dragons in the Sunset</td>\n",
       "      <td>Fire + Ice</td>\n",
       "      <td>folk</td>\n",
       "      <td>Saint-Petersburg</td>\n",
       "      <td>08:37:09</td>\n",
       "      <td>Monday</td>\n",
       "    </tr>\n",
       "    <tr>\n",
       "      <th>4</th>\n",
       "      <td>E2DC1FAE</td>\n",
       "      <td>Soul People</td>\n",
       "      <td>Space Echo</td>\n",
       "      <td>dance</td>\n",
       "      <td>Moscow</td>\n",
       "      <td>08:34:34</td>\n",
       "      <td>Monday</td>\n",
       "    </tr>\n",
       "    <tr>\n",
       "      <th>5</th>\n",
       "      <td>842029A1</td>\n",
       "      <td>Преданная</td>\n",
       "      <td>IMPERVTOR</td>\n",
       "      <td>rusrap</td>\n",
       "      <td>Saint-Petersburg</td>\n",
       "      <td>13:09:41</td>\n",
       "      <td>Friday</td>\n",
       "    </tr>\n",
       "    <tr>\n",
       "      <th>6</th>\n",
       "      <td>4CB90AA5</td>\n",
       "      <td>True</td>\n",
       "      <td>Roman Messer</td>\n",
       "      <td>dance</td>\n",
       "      <td>Moscow</td>\n",
       "      <td>13:00:07</td>\n",
       "      <td>Wednesday</td>\n",
       "    </tr>\n",
       "    <tr>\n",
       "      <th>7</th>\n",
       "      <td>F03E1C1F</td>\n",
       "      <td>Feeling This Way</td>\n",
       "      <td>Polina Griffith</td>\n",
       "      <td>dance</td>\n",
       "      <td>Moscow</td>\n",
       "      <td>20:47:49</td>\n",
       "      <td>Wednesday</td>\n",
       "    </tr>\n",
       "    <tr>\n",
       "      <th>8</th>\n",
       "      <td>8FA1D3BE</td>\n",
       "      <td>И вновь продолжается бой</td>\n",
       "      <td>NaN</td>\n",
       "      <td>ruspop</td>\n",
       "      <td>Moscow</td>\n",
       "      <td>09:17:40</td>\n",
       "      <td>Friday</td>\n",
       "    </tr>\n",
       "    <tr>\n",
       "      <th>9</th>\n",
       "      <td>E772D5C0</td>\n",
       "      <td>Pessimist</td>\n",
       "      <td>NaN</td>\n",
       "      <td>dance</td>\n",
       "      <td>Saint-Petersburg</td>\n",
       "      <td>21:20:49</td>\n",
       "      <td>Wednesday</td>\n",
       "    </tr>\n",
       "  </tbody>\n",
       "</table>\n",
       "</div>"
      ],
      "text/plain": [
       "     userID                        Track            artist   genre  \\\n",
       "0  FFB692EC            Kamigata To Boots  The Mass Missile    rock   \n",
       "1  55204538  Delayed Because of Accident  Andreas Rönnberg    rock   \n",
       "2    20EC38            Funiculì funiculà       Mario Lanza     pop   \n",
       "3  A3DD03C9        Dragons in the Sunset        Fire + Ice    folk   \n",
       "4  E2DC1FAE                  Soul People        Space Echo   dance   \n",
       "5  842029A1                    Преданная         IMPERVTOR  rusrap   \n",
       "6  4CB90AA5                         True      Roman Messer   dance   \n",
       "7  F03E1C1F             Feeling This Way   Polina Griffith   dance   \n",
       "8  8FA1D3BE     И вновь продолжается бой               NaN  ruspop   \n",
       "9  E772D5C0                    Pessimist               NaN   dance   \n",
       "\n",
       "             City        time        Day  \n",
       "0  Saint-Petersburg  20:28:33  Wednesday  \n",
       "1            Moscow  14:07:09     Friday  \n",
       "2  Saint-Petersburg  20:58:07  Wednesday  \n",
       "3  Saint-Petersburg  08:37:09     Monday  \n",
       "4            Moscow  08:34:34     Monday  \n",
       "5  Saint-Petersburg  13:09:41     Friday  \n",
       "6            Moscow  13:00:07  Wednesday  \n",
       "7            Moscow  20:47:49  Wednesday  \n",
       "8            Moscow  09:17:40     Friday  \n",
       "9  Saint-Petersburg  21:20:49  Wednesday  "
      ]
     },
     "execution_count": 3,
     "metadata": {},
     "output_type": "execute_result"
    }
   ],
   "source": [
    "# Получение первых 10 строк таблицы df\n",
    "df.head(10)"
   ]
  },
  {
   "cell_type": "markdown",
   "id": "6d7cbda5",
   "metadata": {},
   "source": [
    "### Обзор датасета\n",
    "**Задача:** одной командой получить общую информацию о таблице."
   ]
  },
  {
   "cell_type": "code",
   "execution_count": 4,
   "id": "c0196990",
   "metadata": {},
   "outputs": [
    {
     "name": "stdout",
     "output_type": "stream",
     "text": [
      "<class 'pandas.core.frame.DataFrame'>\n",
      "RangeIndex: 65079 entries, 0 to 65078\n",
      "Data columns (total 7 columns):\n",
      " #   Column    Non-Null Count  Dtype \n",
      "---  ------    --------------  ----- \n",
      " 0     userID  65079 non-null  object\n",
      " 1   Track     63848 non-null  object\n",
      " 2   artist    57876 non-null  object\n",
      " 3   genre     63881 non-null  object\n",
      " 4     City    65079 non-null  object\n",
      " 5   time      65079 non-null  object\n",
      " 6   Day       65079 non-null  object\n",
      "dtypes: object(7)\n",
      "memory usage: 3.5+ MB\n"
     ]
    }
   ],
   "source": [
    "# Получение общей информации о данных в таблице df\n",
    "df.info()"
   ]
  },
  {
   "cell_type": "markdown",
   "id": "6fc1c4cc",
   "metadata": {},
   "source": [
    "**Результаты обзора**\n",
    "- Всего в исходной таблице содержится **65079** записей, разбитых на **7** столбцов:\n",
    "    - `userID` — идентификатор пользователя;\n",
    "    - `Track` — название трека;  \n",
    "    - `artist` — имя исполнителя;\n",
    "    - `genre` — название жанра;\n",
    "    - `City` — город пользователя;\n",
    "    - `time` — время начала прослушивания;\n",
    "    - `Day` — день недели.\n",
    "</br></br>\n",
    "- Тип данных во всех столбцах — `object`.\n",
    "\n",
    "\n",
    "- В названиях колонок видны три нарушения стиля:\n",
    "    1. Строчные буквы сочетаются с прописными.\n",
    "    2. Встречаются пробелы.\n",
    "    3. Из названия столбцов не совсем понятно, что за данные хранятся в столбце.\n",
    "</br></br>\n",
    "- Количество значений в столбцах различается. Значит, в данных есть пропущенные значения."
   ]
  },
  {
   "cell_type": "markdown",
   "id": "6029a27f",
   "metadata": {},
   "source": [
    "### Выводы по разделу 4\n",
    "\n",
    "- В каждой строке таблицы — данные о прослушанном треке. Часть колонок описывает саму композицию: название, исполнителя и жанр. Остальные данные рассказывают о пользователе: из какого он города, когда он слушал музыку. \n",
    "\n",
    "\n",
    "- Предварительно можно утверждать, что, данных достаточно для проверки гипотез. Но встречаются пропуски в данных, а в названиях колонок — расхождения с хорошим стилем.\n",
    "\n",
    "\n",
    "- Пропуски в данных наблюдаются только в колонках, описывающих саму композицию, что может свидетельствовать об ошибках при извлечении данных о композициях, либо о том, что в системе поля `Track`, `artist` и `genre` являются необязательными и теоретически возможна ситуация, когда все три поля будут пропущены одновременно. *Целесообразно проконсультироваться с разработчиками.*\n",
    "\n",
    "\n",
    "- С точки зрения постановки задачи наиболее важным является столбец `genre`. Предварительно, он содержит меньше всего пропусков данных.\n",
    "\n",
    "\n",
    "- Чтобы двигаться дальше, нужно устранить проблемы в данных."
   ]
  },
  {
   "cell_type": "markdown",
   "id": "ad61c06c",
   "metadata": {},
   "source": [
    "[В начало раздела](#Обзор-данных) | [К содержанию проекта](#Содержание)"
   ]
  },
  {
   "cell_type": "markdown",
   "id": "1d5f9635",
   "metadata": {},
   "source": [
    "## Предобработка данных\n",
    "**Задачи:**\n",
    "- исправить стиль в заголовках столбцов;\n",
    "- исключить пропуски;\n",
    "- проверить данные на дубликаты."
   ]
  },
  {
   "cell_type": "markdown",
   "id": "16256c7e",
   "metadata": {},
   "source": [
    "### Стиль заголовков столбцов\n",
    "Выведем на экран названия столбцов."
   ]
  },
  {
   "cell_type": "code",
   "execution_count": 5,
   "id": "b0eb2a67",
   "metadata": {},
   "outputs": [
    {
     "data": {
      "text/plain": [
       "Index(['  userID', 'Track', 'artist', 'genre', '  City  ', 'time', 'Day'], dtype='object')"
      ]
     },
     "execution_count": 5,
     "metadata": {},
     "output_type": "execute_result"
    }
   ],
   "source": [
    "# Перечень названий столбцов таблицы df\n",
    "df.columns"
   ]
  },
  {
   "cell_type": "markdown",
   "id": "493e8896",
   "metadata": {},
   "source": [
    "Приведём названия столбцов в соответствие с хорошим стилем:\n",
    "* несколько слов в названии запишем в «змеином_регистре»,\n",
    "* все символы сделаем строчными,\n",
    "* устраним пробелы.\n",
    "\n",
    "Для этого переименуем колонки с помощью метода `rename()` так:\n",
    "* `'  userID'` → `'user_id'`;\n",
    "* `'Track'` → `'track'`;\n",
    "* `'  City  '` → `'city'`;\n",
    "* `'Day'` → `'day'`."
   ]
  },
  {
   "cell_type": "code",
   "execution_count": 6,
   "id": "20807184",
   "metadata": {},
   "outputs": [],
   "source": [
    "# Переименование столбцов\n",
    "df = df.rename(columns={'  userID': 'user_id', 'Track': 'track', '  City  ': 'city', 'Day': 'day'})"
   ]
  },
  {
   "cell_type": "markdown",
   "id": "ae8b8b8d",
   "metadata": {},
   "source": [
    "Проверим результат. Для этого ещё раз выведем на экран названия столбцов."
   ]
  },
  {
   "cell_type": "code",
   "execution_count": 7,
   "id": "ae49a5ca",
   "metadata": {},
   "outputs": [
    {
     "data": {
      "text/plain": [
       "Index(['user_id', 'track', 'artist', 'genre', 'city', 'time', 'day'], dtype='object')"
      ]
     },
     "execution_count": 7,
     "metadata": {},
     "output_type": "execute_result"
    }
   ],
   "source": [
    "# Проверка результатов - перечень названий столбцов\n",
    "df.columns"
   ]
  },
  {
   "cell_type": "markdown",
   "id": "f780883a",
   "metadata": {},
   "source": [
    "**Вывод:** ✅столбцы переименованы корректно"
   ]
  },
  {
   "cell_type": "markdown",
   "id": "36a7155b",
   "metadata": {},
   "source": [
    "### Пропуски значений\n",
    "Посчитаем, сколько в таблице пропущенных значений."
   ]
  },
  {
   "cell_type": "code",
   "execution_count": 8,
   "id": "e6ce6398",
   "metadata": {},
   "outputs": [
    {
     "data": {
      "text/plain": [
       "user_id       0\n",
       "track      1231\n",
       "artist     7203\n",
       "genre      1198\n",
       "city          0\n",
       "time          0\n",
       "day           0\n",
       "dtype: int64"
      ]
     },
     "execution_count": 8,
     "metadata": {},
     "output_type": "execute_result"
    }
   ],
   "source": [
    "# Подсчёт пропусков\n",
    "df.isna().sum()"
   ]
  },
  {
   "cell_type": "markdown",
   "id": "c96be98f",
   "metadata": {},
   "source": [
    "Не все пропущенные значения влияют на исследование. Так в `track` и `artist` пропуски не важны для исследования. Достаточно заменить их явными обозначениями.\n",
    "\n",
    "Но пропуски в `genre` могут помешать сравнению музыкальных вкусов в Москве и Санкт-Петербурге. На практике было бы правильно установить причину пропусков и восстановить данные. Такой возможности нет в учебном проекте. Придётся:\n",
    "* заполнить и эти пропуски явными обозначениями,\n",
    "* оценить, насколько они повредят расчётам.\n",
    "\n",
    "Заменим пропущенные значения в столбцах `track`, `artist` и `genre` на строку `'unknown'`. Для этого создадим список `columns_to_replace`, переберём его элементы циклом `for` и для каждого столбца выполним замену пропущенных значений."
   ]
  },
  {
   "cell_type": "code",
   "execution_count": 9,
   "id": "7a4d035b",
   "metadata": {},
   "outputs": [],
   "source": [
    "# Перебор названий столбцов в цикле и замена пропущенных значений на 'unknown'\n",
    "\n",
    "columns_to_replace = ['track', 'artist', 'genre']\n",
    "for column in columns_to_replace:\n",
    "    df[column] = df[column].fillna('unknown')"
   ]
  },
  {
   "cell_type": "markdown",
   "id": "5578d104",
   "metadata": {},
   "source": [
    "Убедимся, что в таблице не осталось пропусков. Для этого ещё раз посчитаем пропущенные значения."
   ]
  },
  {
   "cell_type": "code",
   "execution_count": 10,
   "id": "0e08b76c",
   "metadata": {},
   "outputs": [
    {
     "data": {
      "text/plain": [
       "user_id    0\n",
       "track      0\n",
       "artist     0\n",
       "genre      0\n",
       "city       0\n",
       "time       0\n",
       "day        0\n",
       "dtype: int64"
      ]
     },
     "execution_count": 10,
     "metadata": {},
     "output_type": "execute_result"
    }
   ],
   "source": [
    "df.isna().sum()"
   ]
  },
  {
   "cell_type": "markdown",
   "id": "44ab9655",
   "metadata": {},
   "source": [
    "**Вывод:** ✅список `columns_to_replace` сформирован верно, цикл отработал без ошибок."
   ]
  },
  {
   "cell_type": "markdown",
   "id": "bca3d76e",
   "metadata": {},
   "source": [
    "### Дубликаты\n",
    "Посчитаем и удалим явные дубликаты в таблице."
   ]
  },
  {
   "cell_type": "code",
   "execution_count": 11,
   "id": "e3214f24",
   "metadata": {
    "scrolled": true
   },
   "outputs": [
    {
     "data": {
      "text/plain": [
       "3826"
      ]
     },
     "execution_count": 11,
     "metadata": {},
     "output_type": "execute_result"
    }
   ],
   "source": [
    "# Подсчёт явных дубликатов\n",
    "df.duplicated().sum()"
   ]
  },
  {
   "cell_type": "markdown",
   "id": "5c745736",
   "metadata": {},
   "source": [
    "Вызовем специальный метод `pandas`, чтобы удалить явные дубликаты."
   ]
  },
  {
   "cell_type": "code",
   "execution_count": 12,
   "id": "8a8e8f14",
   "metadata": {},
   "outputs": [],
   "source": [
    " # Удаление явных дубликатов (с удалением старых индексов и формированием новых)\n",
    "df = df.drop_duplicates().reset_index(drop=True)"
   ]
  },
  {
   "cell_type": "markdown",
   "id": "ce94c6a5",
   "metadata": {},
   "source": [
    "Ещё раз посчитаем явные дубликаты в таблице — убедимся, что полностью от них избавились:"
   ]
  },
  {
   "cell_type": "code",
   "execution_count": 13,
   "id": "2d8cf127",
   "metadata": {},
   "outputs": [
    {
     "data": {
      "text/plain": [
       "0"
      ]
     },
     "execution_count": 13,
     "metadata": {},
     "output_type": "execute_result"
    }
   ],
   "source": [
    "# Проверка на отсутствие дубликатов\n",
    "df.duplicated().sum()"
   ]
  },
  {
   "cell_type": "markdown",
   "id": "3b037d11",
   "metadata": {},
   "source": [
    "Избавимся от неявных дубликатов в колонке `genre`. Например, название одного и того же жанра может быть записано немного по-разному. Такие ошибки тоже могут повлиять на результат исследования.\n",
    "\n",
    "\n",
    "Выведем на экран список уникальных названий жанров, отсортированный в алфавитном порядке. Для этого:\n",
    "* извлечём нужный столбец датафрейма, \n",
    "* применим к нему метод сортировки,\n",
    "* для отсортированного столбца вызовем метод, который вернёт уникальные значения из столбца."
   ]
  },
  {
   "cell_type": "code",
   "execution_count": 14,
   "id": "52f7c775",
   "metadata": {},
   "outputs": [
    {
     "data": {
      "text/plain": [
       "array(['acid', 'acoustic', 'action', 'adult', 'africa', 'afrikaans',\n",
       "       'alternative', 'alternativepunk', 'ambient', 'americana',\n",
       "       'animated', 'anime', 'arabesk', 'arabic', 'arena',\n",
       "       'argentinetango', 'art', 'audiobook', 'author', 'avantgarde',\n",
       "       'axé', 'baile', 'balkan', 'beats', 'bigroom', 'black', 'bluegrass',\n",
       "       'blues', 'bollywood', 'bossa', 'brazilian', 'breakbeat', 'breaks',\n",
       "       'broadway', 'cantautori', 'cantopop', 'canzone', 'caribbean',\n",
       "       'caucasian', 'celtic', 'chamber', 'chanson', 'children', 'chill',\n",
       "       'chinese', 'choral', 'christian', 'christmas', 'classical',\n",
       "       'classicmetal', 'club', 'colombian', 'comedy', 'conjazz',\n",
       "       'contemporary', 'country', 'cuban', 'dance', 'dancehall',\n",
       "       'dancepop', 'dark', 'death', 'deep', 'deutschrock', 'deutschspr',\n",
       "       'dirty', 'disco', 'dnb', 'documentary', 'downbeat', 'downtempo',\n",
       "       'drum', 'dub', 'dubstep', 'eastern', 'easy', 'electronic',\n",
       "       'electropop', 'emo', 'entehno', 'epicmetal', 'estrada', 'ethnic',\n",
       "       'eurofolk', 'european', 'experimental', 'extrememetal', 'fado',\n",
       "       'fairytail', 'film', 'fitness', 'flamenco', 'folk', 'folklore',\n",
       "       'folkmetal', 'folkrock', 'folktronica', 'forró', 'frankreich',\n",
       "       'französisch', 'french', 'funk', 'future', 'gangsta', 'garage',\n",
       "       'german', 'ghazal', 'gitarre', 'glitch', 'gospel', 'gothic',\n",
       "       'grime', 'grunge', 'gypsy', 'handsup', \"hard'n'heavy\", 'hardcore',\n",
       "       'hardstyle', 'hardtechno', 'hip', 'hip-hop', 'hiphop',\n",
       "       'historisch', 'holiday', 'hop', 'horror', 'house', 'hymn', 'idm',\n",
       "       'independent', 'indian', 'indie', 'indipop', 'industrial',\n",
       "       'inspirational', 'instrumental', 'international', 'irish', 'jam',\n",
       "       'japanese', 'jazz', 'jewish', 'jpop', 'jungle', 'k-pop',\n",
       "       'karadeniz', 'karaoke', 'kayokyoku', 'korean', 'laiko', 'latin',\n",
       "       'latino', 'leftfield', 'local', 'lounge', 'loungeelectronic',\n",
       "       'lovers', 'malaysian', 'mandopop', 'marschmusik', 'meditative',\n",
       "       'mediterranean', 'melodic', 'metal', 'metalcore', 'mexican',\n",
       "       'middle', 'minimal', 'miscellaneous', 'modern', 'mood', 'mpb',\n",
       "       'muslim', 'native', 'neoklassik', 'neue', 'new', 'newage',\n",
       "       'newwave', 'nu', 'nujazz', 'numetal', 'oceania', 'old', 'opera',\n",
       "       'orchestral', 'other', 'piano', 'podcasts', 'pop', 'popdance',\n",
       "       'popelectronic', 'popeurodance', 'poprussian', 'post',\n",
       "       'posthardcore', 'postrock', 'power', 'progmetal', 'progressive',\n",
       "       'psychedelic', 'punjabi', 'punk', 'quebecois', 'ragga', 'ram',\n",
       "       'rancheras', 'rap', 'rave', 'reggae', 'reggaeton', 'regional',\n",
       "       'relax', 'religious', 'retro', 'rhythm', 'rnb', 'rnr', 'rock',\n",
       "       'rockabilly', 'rockalternative', 'rockindie', 'rockother',\n",
       "       'romance', 'roots', 'ruspop', 'rusrap', 'rusrock', 'russian',\n",
       "       'salsa', 'samba', 'scenic', 'schlager', 'self', 'sertanejo',\n",
       "       'shanson', 'shoegazing', 'showtunes', 'singer', 'ska', 'skarock',\n",
       "       'slow', 'smooth', 'soft', 'soul', 'soulful', 'sound', 'soundtrack',\n",
       "       'southern', 'specialty', 'speech', 'spiritual', 'sport',\n",
       "       'stonerrock', 'surf', 'swing', 'synthpop', 'synthrock',\n",
       "       'sängerportrait', 'tango', 'tanzorchester', 'taraftar', 'tatar',\n",
       "       'tech', 'techno', 'teen', 'thrash', 'top', 'traditional',\n",
       "       'tradjazz', 'trance', 'tribal', 'trip', 'triphop', 'tropical',\n",
       "       'türk', 'türkçe', 'ukrrock', 'unknown', 'urban', 'uzbek',\n",
       "       'variété', 'vi', 'videogame', 'vocal', 'western', 'world',\n",
       "       'worldbeat', 'ïîï', 'электроника'], dtype=object)"
      ]
     },
     "execution_count": 14,
     "metadata": {},
     "output_type": "execute_result"
    }
   ],
   "source": [
    " # Просмотр уникальных названий жанров\n",
    "df['genre'].sort_values().unique()"
   ]
  },
  {
   "cell_type": "markdown",
   "id": "adef17dd",
   "metadata": {},
   "source": [
    "Обнаружены следующие неявные дубликаты:\n",
    "* *hip*,\n",
    "* *hop*,\n",
    "* *hip-hop*.\n",
    "\n",
    "Кроме этого, сортировка уникальных значений столбца `genre` также помогла обнаружить два неявных дубликата, возникших, очевидно, из-за ошибок при вводе:\n",
    "* *ïîï* — название жанра `pop` на русском языке в кодировке WINDOWS-1251 (это удалось установить с помощью [этого универсального декодера](https://2cyr.com/decode/?lang=ru))\n",
    "* *электроника* — название жанра `electronic` на русском языке\n",
    "\n",
    "Чтобы очистить от них таблицу, напишем функцию `replace_wrong_genres()` с двумя параметрами: \n",
    "* `wrong_genres` — список дубликатов,\n",
    "* `correct_genre` — строка с правильным значением.\n",
    "\n",
    "Функция должна исправить колонку `genre` в таблице `df`: заменить каждое значение из списка `wrong_genres` на значение из `correct_genre`."
   ]
  },
  {
   "cell_type": "code",
   "execution_count": 15,
   "id": "584184b6",
   "metadata": {},
   "outputs": [],
   "source": [
    "# Функция для замены неявных дубликатов\n",
    "\n",
    "def replace_wrong_genres (wrong_genres, correct_genre): # на вход функции подаются список дубликатов и строка с правильным значением\n",
    "    for wrong_genre in wrong_genres: # перебираем дубликаты в списке wrong_genres\n",
    "        df['genre'] = df['genre'].replace(wrong_genre, correct_genre) # и для каждого неправильного названия жанра вызываем метод replace()"
   ]
  },
  {
   "cell_type": "markdown",
   "id": "0e4cd534",
   "metadata": {},
   "source": [
    "Создадим словарь `genres_to_replace` в котором каждому правильному названию жанра будут сопоставлены варианты, которые должны быть заменены: вместо `hip`, `hop` и `hip-hop` должно быть значение `hiphop`, также `ïîï` должно быть заменено на `pop`, а `электроника` на `electronic`. После этого, в цикле по элементам этого словаря вызовем функцию `replace_wrong_genres()` и передадим ей такие аргументы, чтобы она устранила неявные дубликаты."
   ]
  },
  {
   "cell_type": "code",
   "execution_count": 16,
   "id": "b542a376",
   "metadata": {},
   "outputs": [],
   "source": [
    "# Устранение неявных дубликатов\n",
    "\n",
    "genres_to_replace = {\n",
    "    'hiphop' : ['hip', 'hop', 'hip-hop'],\n",
    "    'pop' : ['ïîï'],\n",
    "    'electronic' : ['электроника']\n",
    "}\n",
    "\n",
    "for correct_value in genres_to_replace:\n",
    "    replace_wrong_genres(genres_to_replace[correct_value], correct_value)"
   ]
  },
  {
   "cell_type": "markdown",
   "id": "98ded6e9",
   "metadata": {},
   "source": [
    "Проверим корректность устранения неявных дубликатов. Выведем отсортированный список уникальных значений столбца `genre`."
   ]
  },
  {
   "cell_type": "code",
   "execution_count": 17,
   "id": "68a116b9",
   "metadata": {
    "scrolled": true
   },
   "outputs": [
    {
     "data": {
      "text/plain": [
       "array(['acid', 'acoustic', 'action', 'adult', 'africa', 'afrikaans',\n",
       "       'alternative', 'alternativepunk', 'ambient', 'americana',\n",
       "       'animated', 'anime', 'arabesk', 'arabic', 'arena',\n",
       "       'argentinetango', 'art', 'audiobook', 'author', 'avantgarde',\n",
       "       'axé', 'baile', 'balkan', 'beats', 'bigroom', 'black', 'bluegrass',\n",
       "       'blues', 'bollywood', 'bossa', 'brazilian', 'breakbeat', 'breaks',\n",
       "       'broadway', 'cantautori', 'cantopop', 'canzone', 'caribbean',\n",
       "       'caucasian', 'celtic', 'chamber', 'chanson', 'children', 'chill',\n",
       "       'chinese', 'choral', 'christian', 'christmas', 'classical',\n",
       "       'classicmetal', 'club', 'colombian', 'comedy', 'conjazz',\n",
       "       'contemporary', 'country', 'cuban', 'dance', 'dancehall',\n",
       "       'dancepop', 'dark', 'death', 'deep', 'deutschrock', 'deutschspr',\n",
       "       'dirty', 'disco', 'dnb', 'documentary', 'downbeat', 'downtempo',\n",
       "       'drum', 'dub', 'dubstep', 'eastern', 'easy', 'electronic',\n",
       "       'electropop', 'emo', 'entehno', 'epicmetal', 'estrada', 'ethnic',\n",
       "       'eurofolk', 'european', 'experimental', 'extrememetal', 'fado',\n",
       "       'fairytail', 'film', 'fitness', 'flamenco', 'folk', 'folklore',\n",
       "       'folkmetal', 'folkrock', 'folktronica', 'forró', 'frankreich',\n",
       "       'französisch', 'french', 'funk', 'future', 'gangsta', 'garage',\n",
       "       'german', 'ghazal', 'gitarre', 'glitch', 'gospel', 'gothic',\n",
       "       'grime', 'grunge', 'gypsy', 'handsup', \"hard'n'heavy\", 'hardcore',\n",
       "       'hardstyle', 'hardtechno', 'hiphop', 'historisch', 'holiday',\n",
       "       'horror', 'house', 'hymn', 'idm', 'independent', 'indian', 'indie',\n",
       "       'indipop', 'industrial', 'inspirational', 'instrumental',\n",
       "       'international', 'irish', 'jam', 'japanese', 'jazz', 'jewish',\n",
       "       'jpop', 'jungle', 'k-pop', 'karadeniz', 'karaoke', 'kayokyoku',\n",
       "       'korean', 'laiko', 'latin', 'latino', 'leftfield', 'local',\n",
       "       'lounge', 'loungeelectronic', 'lovers', 'malaysian', 'mandopop',\n",
       "       'marschmusik', 'meditative', 'mediterranean', 'melodic', 'metal',\n",
       "       'metalcore', 'mexican', 'middle', 'minimal', 'miscellaneous',\n",
       "       'modern', 'mood', 'mpb', 'muslim', 'native', 'neoklassik', 'neue',\n",
       "       'new', 'newage', 'newwave', 'nu', 'nujazz', 'numetal', 'oceania',\n",
       "       'old', 'opera', 'orchestral', 'other', 'piano', 'podcasts', 'pop',\n",
       "       'popdance', 'popelectronic', 'popeurodance', 'poprussian', 'post',\n",
       "       'posthardcore', 'postrock', 'power', 'progmetal', 'progressive',\n",
       "       'psychedelic', 'punjabi', 'punk', 'quebecois', 'ragga', 'ram',\n",
       "       'rancheras', 'rap', 'rave', 'reggae', 'reggaeton', 'regional',\n",
       "       'relax', 'religious', 'retro', 'rhythm', 'rnb', 'rnr', 'rock',\n",
       "       'rockabilly', 'rockalternative', 'rockindie', 'rockother',\n",
       "       'romance', 'roots', 'ruspop', 'rusrap', 'rusrock', 'russian',\n",
       "       'salsa', 'samba', 'scenic', 'schlager', 'self', 'sertanejo',\n",
       "       'shanson', 'shoegazing', 'showtunes', 'singer', 'ska', 'skarock',\n",
       "       'slow', 'smooth', 'soft', 'soul', 'soulful', 'sound', 'soundtrack',\n",
       "       'southern', 'specialty', 'speech', 'spiritual', 'sport',\n",
       "       'stonerrock', 'surf', 'swing', 'synthpop', 'synthrock',\n",
       "       'sängerportrait', 'tango', 'tanzorchester', 'taraftar', 'tatar',\n",
       "       'tech', 'techno', 'teen', 'thrash', 'top', 'traditional',\n",
       "       'tradjazz', 'trance', 'tribal', 'trip', 'triphop', 'tropical',\n",
       "       'türk', 'türkçe', 'ukrrock', 'unknown', 'urban', 'uzbek',\n",
       "       'variété', 'vi', 'videogame', 'vocal', 'western', 'world',\n",
       "       'worldbeat'], dtype=object)"
      ]
     },
     "execution_count": 17,
     "metadata": {},
     "output_type": "execute_result"
    }
   ],
   "source": [
    "df['genre'].sort_values().unique()"
   ]
  },
  {
   "cell_type": "markdown",
   "id": "7dd6af93",
   "metadata": {},
   "source": [
    "**Вывод:** ✅неявные дубликаты удалены корректно."
   ]
  },
  {
   "cell_type": "markdown",
   "id": "6ad4f171",
   "metadata": {},
   "source": [
    "### Выводы по разделу 5\n",
    "- Предобработка обнаружила три проблемы в данных:\n",
    "    - нарушения в стиле заголовков,\n",
    "    - пропущенные значения,\n",
    "    - дубликаты — явные и неявные.\n",
    "</br></br>\n",
    "- Мы исправили заголовки, чтобы упростить работу с таблицей.\n",
    "\n",
    "\n",
    "- Без явных дубликатов исследование станет более точным.\n",
    "\n",
    "\n",
    "- Пропущенные значения мы заменили на `'unknown'`. Далее предстоит проверить, не повредят ли исследованию пропуски в колонке `genre`.\n",
    "\n",
    "Теперь можно перейти к проверке гипотез. "
   ]
  },
  {
   "cell_type": "markdown",
   "id": "36197a19",
   "metadata": {},
   "source": [
    "[В начало раздела](#Предобработка-данных) | [К содержанию проекта](#Содержание)"
   ]
  },
  {
   "cell_type": "markdown",
   "id": "3c11fa03",
   "metadata": {},
   "source": [
    "## Проверка гипотез"
   ]
  },
  {
   "cell_type": "markdown",
   "id": "619a8a6d",
   "metadata": {},
   "source": [
    "### Сравнение поведения пользователей двух столиц\n",
    "**Задача:** первая гипотеза утверждает, что пользователи по-разному слушают музыку в Москве и Санкт-Петербурге. Необходимо проверить это предположение по данным о трёх днях недели — понедельнике, среде и пятнице. Для этого требуется:\n",
    "* разделить пользователей Москвы и Санкт-Петербурга;\n",
    "* сравнить, сколько треков послушала каждая группа пользователей в понедельник, среду и пятницу.\n",
    "\n",
    "#### Предварительные расчеты\n",
    "\n",
    "Сначала выполним каждый из расчётов по отдельности. Оценим активность пользователей в каждом городе. Сгруппируем данные по городу и посчитаем прослушивания в каждой группе."
   ]
  },
  {
   "cell_type": "code",
   "execution_count": 18,
   "id": "68974d04",
   "metadata": {},
   "outputs": [
    {
     "data": {
      "text/plain": [
       "city\n",
       "Moscow              42741\n",
       "Saint-Petersburg    18512\n",
       "Name: genre, dtype: int64"
      ]
     },
     "execution_count": 18,
     "metadata": {},
     "output_type": "execute_result"
    }
   ],
   "source": [
    "# Подсчёт прослушиваний в каждом городе\n",
    "df.groupby('city')['genre'].count()"
   ]
  },
  {
   "cell_type": "markdown",
   "id": "dbed7d72",
   "metadata": {},
   "source": [
    "**Промежуточный выводы:**\n",
    "- в Москве прослушиваний больше, чем в Петербурге;\n",
    "- из этого не следует, что московские пользователи чаще слушают музыку — просто самих пользователей в Москве больше.\n",
    "\n",
    "Теперь сгруппируем данные по дню недели и подсчитаем прослушивания в понедельник, среду и пятницу. Учтём, что в данных есть информация о прослушиваниях только за эти дни."
   ]
  },
  {
   "cell_type": "code",
   "execution_count": 19,
   "id": "d90dd6dc",
   "metadata": {},
   "outputs": [
    {
     "data": {
      "text/plain": [
       "day\n",
       "Friday       21840\n",
       "Monday       21354\n",
       "Wednesday    18059\n",
       "Name: day, dtype: int64"
      ]
     },
     "execution_count": 19,
     "metadata": {},
     "output_type": "execute_result"
    }
   ],
   "source": [
    "# Подсчёт прослушиваний в каждый из дней\n",
    "df.groupby('day')['day'].count()"
   ]
  },
  {
   "cell_type": "markdown",
   "id": "ce3f14ca",
   "metadata": {},
   "source": [
    "**Промежуточный выводы:**\n",
    "- в среднем пользователи из двух городов менее активны по средам;\n",
    "- картина может измениться, если рассмотреть каждый город в отдельности."
   ]
  },
  {
   "cell_type": "markdown",
   "id": "34f8d1e8",
   "metadata": {},
   "source": [
    "#### Проверка гипотезы. Вариант 1 (первоначальный, от авторов курса)\n",
    "Увидели, как работает группировка по городу и по дням недели. Теперь напишем функцию, которая объединит два эти расчёта.\n",
    "\n",
    "Создадим функцию `number_tracks()`, которая посчитает прослушивания для заданного дня и города. Ей понадобятся два параметра:\n",
    "* день недели,\n",
    "* название города.\n",
    "\n",
    "В функции сохраним в переменную строки исходной таблицы, у которых значение:\n",
    "  * в колонке `day` равно параметру `day`,\n",
    "  * в колонке `city` равно параметру `city`.\n",
    "\n",
    "Для этого применим последовательную фильтрацию с логической индексацией.\n",
    "\n",
    "Затем посчитаем значения в столбце `user_id` получившейся таблицы. Результат сохраним в новую переменную. Вернём эту переменную из функции."
   ]
  },
  {
   "cell_type": "code",
   "execution_count": 20,
   "id": "07db5015",
   "metadata": {},
   "outputs": [],
   "source": [
    "# Создание функции number_tracks()\n",
    "\n",
    "# Объявляется функция с двумя параметрами: day, city.\n",
    "def number_tracks(day, city):\n",
    "    \n",
    "# В переменной track_list сохраняются те строки таблицы df, для которых \n",
    "# значение в столбце 'day' равно параметру day и одновременно значение\n",
    "# в столбце 'city' равно параметру city (используйте последовательную\n",
    "# фильтрацию с помощью логической индексации).\n",
    "    \n",
    "    track_list = df[df['day'] == day]\n",
    "    track_list = track_list[track_list['city'] == city]\n",
    "\n",
    "\n",
    "# В переменной track_list_count сохраняется число значений столбца 'user_id',\n",
    "# рассчитанное методом count() для таблицы track_list.\n",
    "    \n",
    "    track_list_count = track_list['user_id'].count()\n",
    "\n",
    "# Функция возвращает число - значение track_list_count.\n",
    "    \n",
    "    return track_list_count\n",
    "                                  \n",
    "# Функция для подсчёта прослушиваний для конкретного города и дня.\n",
    "# С помощью последовательной фильтрации с логической индексацией она \n",
    "# сначала получит из исходной таблицы строки с нужным днём,\n",
    "# затем из результата отфильтрует строки с нужным городом,\n",
    "# методом count() посчитает количество значений в колонке user_id. \n",
    "# Это количество функция вернёт в качестве результата"
   ]
  },
  {
   "cell_type": "markdown",
   "id": "ded0286c",
   "metadata": {},
   "source": [
    "Вызовем `number_tracks()` шесть раз, меняя значение параметров — так, чтобы получить данные для каждого города в каждый из трёх дней."
   ]
  },
  {
   "cell_type": "code",
   "execution_count": 21,
   "id": "0ff181a0",
   "metadata": {},
   "outputs": [
    {
     "data": {
      "text/plain": [
       "15740"
      ]
     },
     "execution_count": 21,
     "metadata": {},
     "output_type": "execute_result"
    }
   ],
   "source": [
    "# Количество прослушиваний в Москве по понедельникам\n",
    "number_tracks('Monday','Moscow')"
   ]
  },
  {
   "cell_type": "code",
   "execution_count": 22,
   "id": "df06cae3",
   "metadata": {},
   "outputs": [
    {
     "data": {
      "text/plain": [
       "5614"
      ]
     },
     "execution_count": 22,
     "metadata": {},
     "output_type": "execute_result"
    }
   ],
   "source": [
    "# Количество прослушиваний в Санкт-Петербурге по понедельникам\n",
    "number_tracks('Monday','Saint-Petersburg')"
   ]
  },
  {
   "cell_type": "code",
   "execution_count": 23,
   "id": "69f9ced0",
   "metadata": {},
   "outputs": [
    {
     "data": {
      "text/plain": [
       "11056"
      ]
     },
     "execution_count": 23,
     "metadata": {},
     "output_type": "execute_result"
    }
   ],
   "source": [
    "# Количество прослушиваний в Москве по средам\n",
    "number_tracks('Wednesday','Moscow')"
   ]
  },
  {
   "cell_type": "code",
   "execution_count": 24,
   "id": "80048b87",
   "metadata": {},
   "outputs": [
    {
     "data": {
      "text/plain": [
       "7003"
      ]
     },
     "execution_count": 24,
     "metadata": {},
     "output_type": "execute_result"
    }
   ],
   "source": [
    "# Количество прослушиваний в Санкт-Петербурге по средам\n",
    "number_tracks('Wednesday','Saint-Petersburg')"
   ]
  },
  {
   "cell_type": "code",
   "execution_count": 25,
   "id": "e90a750a",
   "metadata": {},
   "outputs": [
    {
     "data": {
      "text/plain": [
       "15945"
      ]
     },
     "execution_count": 25,
     "metadata": {},
     "output_type": "execute_result"
    }
   ],
   "source": [
    "# Количество прослушиваний в Москве по пятницам\n",
    "number_tracks('Friday','Moscow')"
   ]
  },
  {
   "cell_type": "code",
   "execution_count": 26,
   "id": "b476cda5",
   "metadata": {
    "scrolled": true
   },
   "outputs": [
    {
     "data": {
      "text/plain": [
       "5895"
      ]
     },
     "execution_count": 26,
     "metadata": {},
     "output_type": "execute_result"
    }
   ],
   "source": [
    "# Количество прослушиваний в Санкт-Петербурге по пятницам\n",
    "number_tracks('Friday','Saint-Petersburg')"
   ]
  },
  {
   "cell_type": "markdown",
   "id": "9ff35506",
   "metadata": {},
   "source": [
    "Создадим c помощью конструктора `pd.DataFrame` таблицу, где\n",
    "* названия колонок — `['City', 'Monday', 'Wednesday', 'Friday']`;\n",
    "* данные — результаты, которые вы получили с помощью `number_tracks`.\n",
    "\n",
    "Добавим также для наглядности столбец 'Total' в котором укажем общее количество прослушиваний для каждого города (сумму столбцов `Monday`, `Wednesday`, `Friday`)"
   ]
  },
  {
   "cell_type": "code",
   "execution_count": 27,
   "id": "11a4b5d3",
   "metadata": {},
   "outputs": [
    {
     "data": {
      "text/html": [
       "<div>\n",
       "<style scoped>\n",
       "    .dataframe tbody tr th:only-of-type {\n",
       "        vertical-align: middle;\n",
       "    }\n",
       "\n",
       "    .dataframe tbody tr th {\n",
       "        vertical-align: top;\n",
       "    }\n",
       "\n",
       "    .dataframe thead th {\n",
       "        text-align: right;\n",
       "    }\n",
       "</style>\n",
       "<table border=\"1\" class=\"dataframe\">\n",
       "  <thead>\n",
       "    <tr style=\"text-align: right;\">\n",
       "      <th></th>\n",
       "      <th>City</th>\n",
       "      <th></th>\n",
       "      <th>Total</th>\n",
       "      <th></th>\n",
       "      <th>Monday</th>\n",
       "      <th>Wednesday</th>\n",
       "      <th>Friday</th>\n",
       "    </tr>\n",
       "  </thead>\n",
       "  <tbody>\n",
       "    <tr>\n",
       "      <th>0</th>\n",
       "      <td>Moscow</td>\n",
       "      <td>|</td>\n",
       "      <td>42741</td>\n",
       "      <td>|</td>\n",
       "      <td>15740</td>\n",
       "      <td>11056</td>\n",
       "      <td>15945</td>\n",
       "    </tr>\n",
       "    <tr>\n",
       "      <th>1</th>\n",
       "      <td>Saint-Petersburg</td>\n",
       "      <td>|</td>\n",
       "      <td>18512</td>\n",
       "      <td>|</td>\n",
       "      <td>5614</td>\n",
       "      <td>7003</td>\n",
       "      <td>5895</td>\n",
       "    </tr>\n",
       "  </tbody>\n",
       "</table>\n",
       "</div>"
      ],
      "text/plain": [
       "               City     Total     Monday  Wednesday  Friday\n",
       "0            Moscow  |  42741  |   15740      11056   15945\n",
       "1  Saint-Petersburg  |  18512  |    5614       7003    5895"
      ]
     },
     "execution_count": 27,
     "metadata": {},
     "output_type": "execute_result"
    }
   ],
   "source": [
    "# Таблица с результатами\n",
    "data = [['Moscow','|', 42741,'|', 15740, 11056, 15945],\n",
    "       ['Saint-Petersburg','|', 18512,'|', 5614, 7003, 5895]]\n",
    "\n",
    "columns = ['City','','Total','','Monday','Wednesday','Friday']\n",
    "pd.DataFrame(data, columns=columns)"
   ]
  },
  {
   "cell_type": "markdown",
   "id": "87ab1bbd",
   "metadata": {},
   "source": [
    "#### Проверка гипотезы. Вариант 2 (более поздний, собственный)\n",
    "Построим сводную таблицу"
   ]
  },
  {
   "cell_type": "code",
   "execution_count": 28,
   "id": "afc8b00e",
   "metadata": {
    "scrolled": true
   },
   "outputs": [
    {
     "data": {
      "text/html": [
       "<div>\n",
       "<style scoped>\n",
       "    .dataframe tbody tr th:only-of-type {\n",
       "        vertical-align: middle;\n",
       "    }\n",
       "\n",
       "    .dataframe tbody tr th {\n",
       "        vertical-align: top;\n",
       "    }\n",
       "\n",
       "    .dataframe thead th {\n",
       "        text-align: right;\n",
       "    }\n",
       "</style>\n",
       "<table border=\"1\" class=\"dataframe\">\n",
       "  <thead>\n",
       "    <tr style=\"text-align: right;\">\n",
       "      <th></th>\n",
       "      <th>city</th>\n",
       "      <th>Monday</th>\n",
       "      <th>Wednesday</th>\n",
       "      <th>Friday</th>\n",
       "      <th>Total</th>\n",
       "    </tr>\n",
       "  </thead>\n",
       "  <tbody>\n",
       "    <tr>\n",
       "      <th>0</th>\n",
       "      <td>Moscow</td>\n",
       "      <td>15740</td>\n",
       "      <td>11056</td>\n",
       "      <td>15945</td>\n",
       "      <td>42741</td>\n",
       "    </tr>\n",
       "    <tr>\n",
       "      <th>1</th>\n",
       "      <td>Saint-Petersburg</td>\n",
       "      <td>5614</td>\n",
       "      <td>7003</td>\n",
       "      <td>5895</td>\n",
       "      <td>18512</td>\n",
       "    </tr>\n",
       "    <tr>\n",
       "      <th>2</th>\n",
       "      <td>Total</td>\n",
       "      <td>21354</td>\n",
       "      <td>18059</td>\n",
       "      <td>21840</td>\n",
       "      <td>61253</td>\n",
       "    </tr>\n",
       "  </tbody>\n",
       "</table>\n",
       "</div>"
      ],
      "text/plain": [
       "               city  Monday  Wednesday  Friday  Total\n",
       "0            Moscow   15740      11056   15945  42741\n",
       "1  Saint-Petersburg    5614       7003    5895  18512\n",
       "2             Total   21354      18059   21840  61253"
      ]
     },
     "execution_count": 28,
     "metadata": {},
     "output_type": "execute_result"
    }
   ],
   "source": [
    "# Формируем сводную таблицу\n",
    "pivot_table = df.pivot_table(index=['city'],\n",
    "                             columns='day',\n",
    "                             values='user_id',\n",
    "                             aggfunc='count',\n",
    "                             fill_value=0,\n",
    "                             margins=True,\n",
    "                             margins_name='Total')\n",
    "\n",
    "# Обрабатываем заголовки столбцов с сводной таблице\n",
    "pivot_table.columns = [''.join(str(s).strip() for s in col if s) for col in pivot_table.columns]\n",
    "\n",
    "# Сбрасываем индекс сводной таблицы\n",
    "pivot_table.reset_index(inplace=True)\n",
    "\n",
    "# Упорядочиваем таблицу в порядке дней недели\n",
    "pivot_table = pivot_table[['city', 'Monday', 'Wednesday', 'Friday', 'Total']]\n",
    "\n",
    "pivot_table"
   ]
  },
  {
   "cell_type": "markdown",
   "id": "f94f5d5b",
   "metadata": {},
   "source": [
    "#### Выводы по подразделу 6.1\n",
    "- Данные показывают разницу поведения пользователей:\n",
    "    - в Москве пик прослушиваний приходится на понедельник и пятницу, а в среду заметен спад.\n",
    "    - в Петербурге, наоборот, больше слушают музыку по средам. Активность в понедельник и пятницу здесь почти в равной мере уступает среде.\n",
    "</br></br>\n",
    "- Значит, данные говорят в пользу первой гипотезы."
   ]
  },
  {
   "cell_type": "markdown",
   "id": "2c7a80a8",
   "metadata": {},
   "source": [
    "### Музыка в начале и в конце недели\n",
    "**Задача:** проверить гипотезу о том, что утром в понедельник в Москве преобладают одни жанры, а в Петербурге — другие, а так же и вечером пятницы преобладают разные жанры — в зависимости от города.\n",
    "#### Подготовка данных\n",
    "Сохраним таблицы с данными в две переменные:\n",
    "* по Москве — в `moscow_general`;\n",
    "* по Санкт-Петербургу — в `spb_general`."
   ]
  },
  {
   "cell_type": "code",
   "execution_count": 29,
   "id": "ea617c09",
   "metadata": {},
   "outputs": [
    {
     "data": {
      "text/html": [
       "<div>\n",
       "<style scoped>\n",
       "    .dataframe tbody tr th:only-of-type {\n",
       "        vertical-align: middle;\n",
       "    }\n",
       "\n",
       "    .dataframe tbody tr th {\n",
       "        vertical-align: top;\n",
       "    }\n",
       "\n",
       "    .dataframe thead th {\n",
       "        text-align: right;\n",
       "    }\n",
       "</style>\n",
       "<table border=\"1\" class=\"dataframe\">\n",
       "  <thead>\n",
       "    <tr style=\"text-align: right;\">\n",
       "      <th></th>\n",
       "      <th>user_id</th>\n",
       "      <th>track</th>\n",
       "      <th>artist</th>\n",
       "      <th>genre</th>\n",
       "      <th>city</th>\n",
       "      <th>time</th>\n",
       "      <th>day</th>\n",
       "    </tr>\n",
       "  </thead>\n",
       "  <tbody>\n",
       "    <tr>\n",
       "      <th>1</th>\n",
       "      <td>55204538</td>\n",
       "      <td>Delayed Because of Accident</td>\n",
       "      <td>Andreas Rönnberg</td>\n",
       "      <td>rock</td>\n",
       "      <td>Moscow</td>\n",
       "      <td>14:07:09</td>\n",
       "      <td>Friday</td>\n",
       "    </tr>\n",
       "    <tr>\n",
       "      <th>4</th>\n",
       "      <td>E2DC1FAE</td>\n",
       "      <td>Soul People</td>\n",
       "      <td>Space Echo</td>\n",
       "      <td>dance</td>\n",
       "      <td>Moscow</td>\n",
       "      <td>08:34:34</td>\n",
       "      <td>Monday</td>\n",
       "    </tr>\n",
       "    <tr>\n",
       "      <th>6</th>\n",
       "      <td>4CB90AA5</td>\n",
       "      <td>True</td>\n",
       "      <td>Roman Messer</td>\n",
       "      <td>dance</td>\n",
       "      <td>Moscow</td>\n",
       "      <td>13:00:07</td>\n",
       "      <td>Wednesday</td>\n",
       "    </tr>\n",
       "    <tr>\n",
       "      <th>7</th>\n",
       "      <td>F03E1C1F</td>\n",
       "      <td>Feeling This Way</td>\n",
       "      <td>Polina Griffith</td>\n",
       "      <td>dance</td>\n",
       "      <td>Moscow</td>\n",
       "      <td>20:47:49</td>\n",
       "      <td>Wednesday</td>\n",
       "    </tr>\n",
       "    <tr>\n",
       "      <th>8</th>\n",
       "      <td>8FA1D3BE</td>\n",
       "      <td>И вновь продолжается бой</td>\n",
       "      <td>unknown</td>\n",
       "      <td>ruspop</td>\n",
       "      <td>Moscow</td>\n",
       "      <td>09:17:40</td>\n",
       "      <td>Friday</td>\n",
       "    </tr>\n",
       "  </tbody>\n",
       "</table>\n",
       "</div>"
      ],
      "text/plain": [
       "    user_id                        track            artist   genre    city  \\\n",
       "1  55204538  Delayed Because of Accident  Andreas Rönnberg    rock  Moscow   \n",
       "4  E2DC1FAE                  Soul People        Space Echo   dance  Moscow   \n",
       "6  4CB90AA5                         True      Roman Messer   dance  Moscow   \n",
       "7  F03E1C1F             Feeling This Way   Polina Griffith   dance  Moscow   \n",
       "8  8FA1D3BE     И вновь продолжается бой           unknown  ruspop  Moscow   \n",
       "\n",
       "       time        day  \n",
       "1  14:07:09     Friday  \n",
       "4  08:34:34     Monday  \n",
       "6  13:00:07  Wednesday  \n",
       "7  20:47:49  Wednesday  \n",
       "8  09:17:40     Friday  "
      ]
     },
     "metadata": {},
     "output_type": "display_data"
    },
    {
     "data": {
      "text/html": [
       "<div>\n",
       "<style scoped>\n",
       "    .dataframe tbody tr th:only-of-type {\n",
       "        vertical-align: middle;\n",
       "    }\n",
       "\n",
       "    .dataframe tbody tr th {\n",
       "        vertical-align: top;\n",
       "    }\n",
       "\n",
       "    .dataframe thead th {\n",
       "        text-align: right;\n",
       "    }\n",
       "</style>\n",
       "<table border=\"1\" class=\"dataframe\">\n",
       "  <thead>\n",
       "    <tr style=\"text-align: right;\">\n",
       "      <th></th>\n",
       "      <th>user_id</th>\n",
       "      <th>track</th>\n",
       "      <th>artist</th>\n",
       "      <th>genre</th>\n",
       "      <th>city</th>\n",
       "      <th>time</th>\n",
       "      <th>day</th>\n",
       "    </tr>\n",
       "  </thead>\n",
       "  <tbody>\n",
       "    <tr>\n",
       "      <th>0</th>\n",
       "      <td>FFB692EC</td>\n",
       "      <td>Kamigata To Boots</td>\n",
       "      <td>The Mass Missile</td>\n",
       "      <td>rock</td>\n",
       "      <td>Saint-Petersburg</td>\n",
       "      <td>20:28:33</td>\n",
       "      <td>Wednesday</td>\n",
       "    </tr>\n",
       "    <tr>\n",
       "      <th>2</th>\n",
       "      <td>20EC38</td>\n",
       "      <td>Funiculì funiculà</td>\n",
       "      <td>Mario Lanza</td>\n",
       "      <td>pop</td>\n",
       "      <td>Saint-Petersburg</td>\n",
       "      <td>20:58:07</td>\n",
       "      <td>Wednesday</td>\n",
       "    </tr>\n",
       "    <tr>\n",
       "      <th>3</th>\n",
       "      <td>A3DD03C9</td>\n",
       "      <td>Dragons in the Sunset</td>\n",
       "      <td>Fire + Ice</td>\n",
       "      <td>folk</td>\n",
       "      <td>Saint-Petersburg</td>\n",
       "      <td>08:37:09</td>\n",
       "      <td>Monday</td>\n",
       "    </tr>\n",
       "    <tr>\n",
       "      <th>5</th>\n",
       "      <td>842029A1</td>\n",
       "      <td>Преданная</td>\n",
       "      <td>IMPERVTOR</td>\n",
       "      <td>rusrap</td>\n",
       "      <td>Saint-Petersburg</td>\n",
       "      <td>13:09:41</td>\n",
       "      <td>Friday</td>\n",
       "    </tr>\n",
       "    <tr>\n",
       "      <th>9</th>\n",
       "      <td>E772D5C0</td>\n",
       "      <td>Pessimist</td>\n",
       "      <td>unknown</td>\n",
       "      <td>dance</td>\n",
       "      <td>Saint-Petersburg</td>\n",
       "      <td>21:20:49</td>\n",
       "      <td>Wednesday</td>\n",
       "    </tr>\n",
       "  </tbody>\n",
       "</table>\n",
       "</div>"
      ],
      "text/plain": [
       "    user_id                  track            artist   genre  \\\n",
       "0  FFB692EC      Kamigata To Boots  The Mass Missile    rock   \n",
       "2    20EC38      Funiculì funiculà       Mario Lanza     pop   \n",
       "3  A3DD03C9  Dragons in the Sunset        Fire + Ice    folk   \n",
       "5  842029A1              Преданная         IMPERVTOR  rusrap   \n",
       "9  E772D5C0              Pessimist           unknown   dance   \n",
       "\n",
       "               city      time        day  \n",
       "0  Saint-Petersburg  20:28:33  Wednesday  \n",
       "2  Saint-Petersburg  20:58:07  Wednesday  \n",
       "3  Saint-Petersburg  08:37:09     Monday  \n",
       "5  Saint-Petersburg  13:09:41     Friday  \n",
       "9  Saint-Petersburg  21:20:49  Wednesday  "
      ]
     },
     "execution_count": 29,
     "metadata": {},
     "output_type": "execute_result"
    }
   ],
   "source": [
    "# Получение таблицы moscow_general из тех строк таблицы df, \n",
    "# для которых значение в столбце 'city' равно 'Moscow'\n",
    "\n",
    "moscow_general = df[df['city'] == 'Moscow']\n",
    "display(moscow_general.head())\n",
    "\n",
    "# Получение таблицы spb_general из тех строк таблицы df,\n",
    "# для которых значение в столбце 'city' равно 'Saint-Petersburg'\n",
    "\n",
    "spb_general = df[df['city'] == 'Saint-Petersburg']\n",
    "spb_general.head()"
   ]
  },
  {
   "cell_type": "markdown",
   "id": "1a0aaddf",
   "metadata": {},
   "source": [
    "#### Функция для расчета топ-10 жанров, прослушанных в заданный день и временной интервал\n",
    "Создадим функцию `genre_weekday()` с четырьмя параметрами:\n",
    "* таблица (датафрейм) с данными,\n",
    "* день недели,\n",
    "* начальная временная метка в формате 'hh:mm', \n",
    "* последняя временная метка в формате 'hh:mm'.\n",
    "\n",
    "Функция должна вернуть информацию о топ-10 жанров тех треков, которые прослушивали в указанный день, в промежутке между двумя отметками времени."
   ]
  },
  {
   "cell_type": "code",
   "execution_count": 30,
   "id": "24c09e68",
   "metadata": {},
   "outputs": [],
   "source": [
    "# Объявление функции genre_weekday() с параметрами table, day, time1, time2,\n",
    "# которая возвращает информацию о самых популярных жанрах в указанный день в\n",
    "# заданное время:\n",
    "# 1) в переменную genre_df сохраняются те строки переданного датафрейма table, для\n",
    "#    которых одновременно:\n",
    "#    - значение в столбце day равно значению аргумента day\n",
    "#    - значение в столбце time больше значения аргумента time1\n",
    "#    - значение в столбце time меньше значения аргумента time2\n",
    "#    Используйте последовательную фильтрацию с помощью логической индексации.\n",
    "# 2) сгруппировать датафрейм genre_df по столбцу genre, взять один из его\n",
    "#    столбцов и посчитать методом count() количество записей для каждого из\n",
    "#    присутствующих жанров, получившийся Series записать в переменную\n",
    "#    genre_df_count\n",
    "# 3) отсортировать genre_df_count по убыванию встречаемости и сохранить\n",
    "#    в переменную genre_df_sorted\n",
    "# 4) вернуть Series из 10 первых значений genre_df_sorted, это будут топ-10\n",
    "#    популярных жанров (в указанный день, в заданное время)\n",
    "\n",
    "def genre_weekday(table, day, time1, time2):\n",
    "    genre_df = table[table['day'] == day]\n",
    "    genre_df = genre_df[genre_df['time'] > time1]\n",
    "    genre_df = genre_df[genre_df['time'] < time2]\n",
    "    genre_df_count = genre_df.groupby('genre')['user_id'].count()\n",
    "    genre_df_sorted = genre_df_count.sort_values(ascending=False)\n",
    "    return genre_df_sorted.head(10)"
   ]
  },
  {
   "cell_type": "markdown",
   "id": "992557d6",
   "metadata": {},
   "source": [
    "#### Проверка гипотезы. Вариант 1 (первоначальный, от авторов курса)\n",
    "Сравните результаты функции `genre_weekday()` для Москвы и Санкт-Петербурга в понедельник утром (с 7:00 до 11:00) и в пятницу вечером (с 17:00 до 23:00):"
   ]
  },
  {
   "cell_type": "code",
   "execution_count": 31,
   "id": "2c43da9a",
   "metadata": {},
   "outputs": [
    {
     "data": {
      "text/plain": [
       "genre\n",
       "pop            781\n",
       "dance          549\n",
       "electronic     480\n",
       "rock           474\n",
       "hiphop         286\n",
       "ruspop         186\n",
       "world          181\n",
       "rusrap         175\n",
       "alternative    164\n",
       "unknown        161\n",
       "Name: user_id, dtype: int64"
      ]
     },
     "execution_count": 31,
     "metadata": {},
     "output_type": "execute_result"
    }
   ],
   "source": [
    "# Вызов функции для утра понедельника в Москве (вместо df — таблица moscow_general)\n",
    "# объекты, хранящие время, являются строками и сравниваются как строки\n",
    "\n",
    "genre_weekday(moscow_general, 'Monday', '07:00', '11:00')"
   ]
  },
  {
   "cell_type": "code",
   "execution_count": 32,
   "id": "7d9f1216",
   "metadata": {},
   "outputs": [
    {
     "data": {
      "text/plain": [
       "genre\n",
       "pop            218\n",
       "dance          182\n",
       "rock           162\n",
       "electronic     147\n",
       "hiphop          80\n",
       "ruspop          64\n",
       "alternative     58\n",
       "rusrap          55\n",
       "jazz            44\n",
       "classical       40\n",
       "Name: user_id, dtype: int64"
      ]
     },
     "execution_count": 32,
     "metadata": {},
     "output_type": "execute_result"
    }
   ],
   "source": [
    "# Вызов функции для утра понедельника в Петербурге (вместо df — таблица spb_general)\n",
    "\n",
    "genre_weekday(spb_general, 'Monday', '07:00', '11:00')"
   ]
  },
  {
   "cell_type": "code",
   "execution_count": 33,
   "id": "edb6ab44",
   "metadata": {},
   "outputs": [
    {
     "data": {
      "text/plain": [
       "genre\n",
       "pop            713\n",
       "rock           517\n",
       "dance          495\n",
       "electronic     482\n",
       "hiphop         273\n",
       "world          208\n",
       "ruspop         170\n",
       "alternative    163\n",
       "classical      163\n",
       "rusrap         142\n",
       "Name: user_id, dtype: int64"
      ]
     },
     "execution_count": 33,
     "metadata": {},
     "output_type": "execute_result"
    }
   ],
   "source": [
    "# Вызов функции для вечера пятницы в Москве\n",
    "\n",
    "genre_weekday(moscow_general, 'Friday', '17:00', '23:00')"
   ]
  },
  {
   "cell_type": "code",
   "execution_count": 34,
   "id": "a9f81aa8",
   "metadata": {},
   "outputs": [
    {
     "data": {
      "text/plain": [
       "genre\n",
       "pop            256\n",
       "electronic     216\n",
       "rock           216\n",
       "dance          210\n",
       "hiphop          97\n",
       "alternative     63\n",
       "jazz            61\n",
       "classical       60\n",
       "rusrap          59\n",
       "world           54\n",
       "Name: user_id, dtype: int64"
      ]
     },
     "execution_count": 34,
     "metadata": {},
     "output_type": "execute_result"
    }
   ],
   "source": [
    "# Вызов функции для вечера пятницы в Петербурге\n",
    "\n",
    "genre_weekday(spb_general, 'Friday', '17:00', '23:00')"
   ]
  },
  {
   "cell_type": "markdown",
   "id": "5e2d0903",
   "metadata": {},
   "source": [
    "#### Проверка гипотезы. Вариант 2 (более поздний, собственный)\n",
    "Зададим интервалы для которых нужно получить выборки и организуем циклы для перебора возможных вариантов выборок."
   ]
  },
  {
   "cell_type": "code",
   "execution_count": 35,
   "id": "9036f7f7",
   "metadata": {},
   "outputs": [
    {
     "name": "stdout",
     "output_type": "stream",
     "text": [
      "Город: Saint-Petersburg День: Monday Время: 07:00 - 11:00\n",
      "genre\n",
      "pop            218\n",
      "dance          182\n",
      "rock           162\n",
      "electronic     147\n",
      "hiphop          80\n",
      "ruspop          64\n",
      "alternative     58\n",
      "rusrap          55\n",
      "jazz            44\n",
      "classical       40\n",
      "Name: user_id, dtype: int64\n",
      "\n",
      "\n",
      "Город: Moscow День: Monday Время: 07:00 - 11:00\n",
      "genre\n",
      "pop            781\n",
      "dance          549\n",
      "electronic     480\n",
      "rock           474\n",
      "hiphop         286\n",
      "ruspop         186\n",
      "world          181\n",
      "rusrap         175\n",
      "alternative    164\n",
      "unknown        161\n",
      "Name: user_id, dtype: int64\n",
      "\n",
      "\n",
      "Город: Saint-Petersburg День: Friday Время: 17:00 - 23:00\n",
      "genre\n",
      "pop            256\n",
      "electronic     216\n",
      "rock           216\n",
      "dance          210\n",
      "hiphop          97\n",
      "alternative     63\n",
      "jazz            61\n",
      "classical       60\n",
      "rusrap          59\n",
      "world           54\n",
      "Name: user_id, dtype: int64\n",
      "\n",
      "\n",
      "Город: Moscow День: Friday Время: 17:00 - 23:00\n",
      "genre\n",
      "pop            713\n",
      "rock           517\n",
      "dance          495\n",
      "electronic     482\n",
      "hiphop         273\n",
      "world          208\n",
      "ruspop         170\n",
      "alternative    163\n",
      "classical      163\n",
      "rusrap         142\n",
      "Name: user_id, dtype: int64\n",
      "\n",
      "\n"
     ]
    }
   ],
   "source": [
    "dt_interval = [('Monday', '07:00', '11:00'), ('Friday', '17:00', '23:00')]\n",
    "\n",
    "for day_time in dt_interval:\n",
    "    day, start, end = day_time\n",
    "    for city_df in [spb_general, moscow_general]:\n",
    "        print('Город: {} День: {} Время: {} - {}'.format(city_df['city'].unique()[0], day, start, end))\n",
    "        print(genre_weekday(city_df, day, start, end))\n",
    "        print('\\n')"
   ]
  },
  {
   "cell_type": "markdown",
   "id": "feed74ee",
   "metadata": {},
   "source": [
    "#### Выводы по подразделу 6.2\n",
    "- Если сравнить топ-10 жанров в понедельник утром, можно сделать такие выводы:\n",
    "    1. В Москве и Петербурге слушают похожую музыку. Единственное отличие — в московский рейтинг вошёл жанр “world”, а в петербургский — джаз и классика.\n",
    "    2. В Москве пропущенных значений оказалось так много, что значение `'unknown'` заняло десятое место среди самых популярных жанров. Значит, пропущенные значения занимают существенную долю в данных и угрожают достоверности исследования.\n",
    "</br></br>\n",
    "- Вечер пятницы не меняет эту картину. Некоторые жанры поднимаются немного выше, другие спускаются, но в целом топ-10 остаётся тем же самым.\n",
    "\n",
    "\n",
    "- Таким образом, вторая гипотеза подтвердилась лишь частично:\n",
    "    * Пользователи слушают похожую музыку в начале недели и в конце.\n",
    "    * Разница между Москвой и Петербургом не слишком выражена. В Москве чаще слушают русскую популярную музыку, в Петербурге — джаз.\n",
    "</br></br>\n",
    "- Однако пропуски в данных ставят под сомнение этот результат. В Москве их так много, что рейтинг топ-10 мог бы выглядеть иначе, если бы не утерянные  данные о жанрах."
   ]
  },
  {
   "cell_type": "markdown",
   "id": "bedd05f9",
   "metadata": {},
   "source": [
    "### Жанровые предпочтения в Москве и Петербурге\n",
    "\n",
    "**Задача:** проверить гипотезу: Петербург — столица рэпа, музыку этого жанра там слушают чаще, чем в Москве, а Москва — город контрастов, в котором, тем не менее, преобладает поп-музыка.\n",
    "\n",
    "#### Топ-10 жанров по Москве\n",
    "\n",
    "Сгруппируем таблицу `moscow_general` по жанру и посчитаем прослушивания треков каждого жанра методом `count()`. Затем отсортируем результат в порядке убывания и сохраним его в таблице `moscow_genres`."
   ]
  },
  {
   "cell_type": "code",
   "execution_count": 36,
   "id": "546aa9e7",
   "metadata": {},
   "outputs": [
    {
     "data": {
      "text/plain": [
       "genre\n",
       "pop            5893\n",
       "dance          4435\n",
       "rock           3965\n",
       "electronic     3786\n",
       "hiphop         2096\n",
       "classical      1616\n",
       "world          1432\n",
       "alternative    1379\n",
       "ruspop         1372\n",
       "rusrap         1161\n",
       "Name: genre, dtype: int64"
      ]
     },
     "execution_count": 36,
     "metadata": {},
     "output_type": "execute_result"
    }
   ],
   "source": [
    "# Одной строкой: группировка таблицы moscow_general по столбцу 'genre', \n",
    "# подсчёт числа значений 'genre' в этой группировке методом count(), \n",
    "# сортировка получившегося Series в порядке убывания и сохранение в moscow_genres\n",
    "\n",
    "moscow_genres = moscow_general.groupby('genre')['genre'].count().sort_values(ascending=False)\n",
    "\n",
    "# Просмотр первых 10 строк moscow_genres\n",
    "moscow_genres.head(10)"
   ]
  },
  {
   "cell_type": "markdown",
   "id": "e7e7b218",
   "metadata": {},
   "source": [
    "#### Топ-10 жанров по Петербургу\n",
    "Сгруппируем таблицу `spb_general` по жанру. Посчитаем прослушивания треков каждого жанра. Результат отсортируем в порядке убывания и сохраним в таблице `spb_genres`:"
   ]
  },
  {
   "cell_type": "code",
   "execution_count": 37,
   "id": "d3b43a79",
   "metadata": {
    "scrolled": true
   },
   "outputs": [
    {
     "data": {
      "text/plain": [
       "genre\n",
       "pop            2431\n",
       "dance          1932\n",
       "rock           1879\n",
       "electronic     1737\n",
       "hiphop          960\n",
       "alternative     649\n",
       "classical       646\n",
       "rusrap          564\n",
       "ruspop          538\n",
       "world           515\n",
       "Name: genre, dtype: int64"
      ]
     },
     "execution_count": 37,
     "metadata": {},
     "output_type": "execute_result"
    }
   ],
   "source": [
    "# Группировка таблицы spb_general\n",
    "spb_genres = spb_general.groupby('genre')['genre'].count().sort_values(ascending=False)\n",
    "\n",
    "# Просмотр первых 10 строк spb_genres\n",
    "spb_genres.head(10)"
   ]
  },
  {
   "cell_type": "markdown",
   "id": "9917d0ad",
   "metadata": {},
   "source": [
    "#### Выводы по подразделу 6.3\n",
    "Гипотеза частично подтвердилась:\n",
    "* поп-музыка — самый популярный жанр в Москве, как и предполагала гипотеза. Более того, в топ-10 жанров встречается близкий жанр — русская популярная музыка.\n",
    "* вопреки ожиданиям, рэп одинаково популярен в Москве и Петербурге."
   ]
  },
  {
   "cell_type": "markdown",
   "id": "6c9fcce5",
   "metadata": {},
   "source": [
    "[В начало раздела](#Проверка-гипотез) | [К содержанию проекта](#Содержание)"
   ]
  },
  {
   "cell_type": "markdown",
   "id": "7c59d750",
   "metadata": {},
   "source": [
    "## Итоги исследования\n",
    "Мы проверили три гипотезы и установили:\n",
    "\n",
    "1. День недели по-разному влияет на активность пользователей в Москве и Петербурге. \n",
    "\n",
    "**Таким образом, первая гипотеза полностью подтвердилась.**\n",
    "\n",
    "2. Музыкальные предпочтения не сильно меняются в течение недели — будь то Москва или Петербург. Небольшие различия заметны в начале недели, по понедельникам:\n",
    "* в Москве слушают музыку жанра «world»,\n",
    "* в Петербурге — джаз и классику.\n",
    "\n",
    "**Таким образом, вторая гипотеза подтвердилась лишь отчасти. Этот результат мог оказаться иным, если бы не пропуски в данных.**\n",
    "\n",
    "3. Во вкусах пользователей Москвы и Петербурга больше общего чем различий. Вопреки ожиданиям, предпочтения жанров в Петербурге напоминают московские.\n",
    "\n",
    "**Третья гипотеза не подтвердилась. Если различия в предпочтениях и существуют, на основной массе пользователей они незаметны.**"
   ]
  },
  {
   "cell_type": "markdown",
   "id": "c5180f2f",
   "metadata": {},
   "source": [
    "[В начало раздела](#Итоги-исследования) | [К содержанию проекта](#Содержание)"
   ]
  },
  {
   "cell_type": "markdown",
   "id": "778431fa",
   "metadata": {},
   "source": [
    "## Чек-лист выполнения проекта\n",
    "\n",
    "**Шаг 1. Загрузка данных и изучение общей информации**\n",
    "   - [x] Открыт файл с исходными данными\n",
    "   - [x] Файл изучен (выведены первые строки, метод `info()`)\n",
    "   - [x] Сделан вывод о необходимости предобработки данных\n",
    "\n",
    "</br></br>\n",
    "**Шаг 2. Предобработка данных**\n",
    "   - [x] Заголовки столбцов приведены к хорошему стилю\n",
    "   - [x] Подсчитаны и заполнены «заглушкой» пропуски в данных \n",
    "   - [x] Удалены полные дубликаты\n",
    "   - [x] Исправлены неявные дубликаты    \n",
    "\n",
    "</br></br>\n",
    "**Шаг 3. Проверка гипотез**\n",
    "   - [x] Проверена первая гипотеза\n",
    "   - [x] Проверена вторая гипотеза\n",
    "   - [x] Проверена третья гипотеза\n",
    "   - [x] Сделан общий вывод по исследованию\n",
    "\n",
    "</br></br>\n",
    "[К содержанию проекта](#Содержание)"
   ]
  }
 ],
 "metadata": {
  "kernelspec": {
   "display_name": "Python 3 (ipykernel)",
   "language": "python",
   "name": "python3"
  },
  "language_info": {
   "codemirror_mode": {
    "name": "ipython",
    "version": 3
   },
   "file_extension": ".py",
   "mimetype": "text/x-python",
   "name": "python",
   "nbconvert_exporter": "python",
   "pygments_lexer": "ipython3",
   "version": "3.10.6"
  },
  "toc": {
   "base_numbering": 1,
   "nav_menu": {},
   "number_sections": true,
   "sideBar": true,
   "skip_h1_title": true,
   "title_cell": "Содержание",
   "title_sidebar": "Contents",
   "toc_cell": true,
   "toc_position": {
    "height": "calc(100% - 180px)",
    "left": "10px",
    "top": "150px",
    "width": "361.2px"
   },
   "toc_section_display": true,
   "toc_window_display": true
  }
 },
 "nbformat": 4,
 "nbformat_minor": 5
}
